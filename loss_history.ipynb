{
 "cells": [
  {
   "cell_type": "code",
   "execution_count": 40,
   "id": "bf643e81",
   "metadata": {},
   "outputs": [],
   "source": [
    "from utils import get_data, load_model , dictionry_to_class\n",
    "from xgboost import XGBRegressor\n",
    "import matplotlib.pyplot as plt"
   ]
  },
  {
   "cell_type": "code",
   "execution_count": 41,
   "id": "3fad4fd8",
   "metadata": {},
   "outputs": [],
   "source": [
    "#Define the configurations as a dictionary (*for further research, it is preferable to move it into a separate file out of the code).\n",
    "\n",
    "configs_dict = dict(train_data_path = \"data/train_home_assignment_.csv\",\n",
    "                   target_col = \"org_price_usd_following_30_days\",\n",
    "                   columns_to_drop = [\"treatment\", \"org_price_usd_following_30_days_after_impact\"],\n",
    "                   models_directory = \"models\",\n",
    "                   model_name = \"xbg_regressor_model_task1\",\n",
    "                   time_format = \"%Y_%m_%d-%H_%M_%S\",\n",
    "                   model_file_type = \"json\",\n",
    "                   model_path = \"models/xbg_regressor_model_task1_2023_04_15-22_14_53.json\",\n",
    "                   treatment_col_name = \"treatment\",\n",
    "                   new_treatment_col_name = \"optimal_treatment\",\n",
    "                   data_directory = \"data\",\n",
    "                   test_size = 0.2,\n",
    "                   treatment_values = [2,10])\n",
    "\n",
    "# Convert dictionary into class \n",
    "configs = dictionry_to_class(configs_dict)"
   ]
  },
  {
   "cell_type": "code",
   "execution_count": 42,
   "id": "3f52a0ab",
   "metadata": {},
   "outputs": [],
   "source": [
    "# Load data, remove unnecessary columns, split to train test \n",
    "X_train, X_test, y_train, y_test = get_data(path = configs.train_data_path, \n",
    "                                            target_col = configs.target_col, \n",
    "                                            test_size = configs.test_size,\n",
    "                                            columns_to_drop = configs.columns_to_drop)"
   ]
  },
  {
   "cell_type": "code",
   "execution_count": 43,
   "id": "33138dd9",
   "metadata": {},
   "outputs": [],
   "source": [
    "xgb_regressor_gs_cv_pipline = load_model(model_path = configs.model_path)\n",
    "model = xgb_regressor_gs_cv_pipline.best_estimator_.named_steps.regressor"
   ]
  },
  {
   "cell_type": "code",
   "execution_count": 44,
   "id": "e124bb19",
   "metadata": {},
   "outputs": [],
   "source": [
    "X_train_transformed = xgb_regressor_gs_cv_pipline.best_estimator_.named_steps.preprocessor.transform(X_train)\n",
    "X_test_transformed = xgb_regressor_gs_cv_pipline.best_estimator_.named_steps.preprocessor.transform(X_test)"
   ]
  },
  {
   "cell_type": "code",
   "execution_count": 54,
   "id": "086bda48",
   "metadata": {
    "scrolled": true
   },
   "outputs": [
    {
     "name": "stdout",
     "output_type": "stream",
     "text": [
      "[0]\tvalidation_0-rmse:155.48358\tvalidation_1-rmse:155.63263\n",
      "[1]\tvalidation_0-rmse:146.85788\tvalidation_1-rmse:147.65132\n",
      "[2]\tvalidation_0-rmse:139.25492\tvalidation_1-rmse:140.58111\n",
      "[3]\tvalidation_0-rmse:132.68534\tvalidation_1-rmse:134.57626\n",
      "[4]\tvalidation_0-rmse:127.07240\tvalidation_1-rmse:129.13428\n",
      "[5]\tvalidation_0-rmse:122.14706\tvalidation_1-rmse:124.20821\n",
      "[6]\tvalidation_0-rmse:117.90593\tvalidation_1-rmse:120.56232\n",
      "[7]\tvalidation_0-rmse:114.23345\tvalidation_1-rmse:117.34318\n",
      "[8]\tvalidation_0-rmse:111.03165\tvalidation_1-rmse:114.59277\n",
      "[9]\tvalidation_0-rmse:108.30442\tvalidation_1-rmse:112.42927\n",
      "[10]\tvalidation_0-rmse:105.85126\tvalidation_1-rmse:110.66210\n",
      "[11]\tvalidation_0-rmse:103.72996\tvalidation_1-rmse:109.04512\n",
      "[12]\tvalidation_0-rmse:101.84792\tvalidation_1-rmse:107.35447\n",
      "[13]\tvalidation_0-rmse:100.37883\tvalidation_1-rmse:106.19635\n",
      "[14]\tvalidation_0-rmse:98.88335\tvalidation_1-rmse:105.58750\n",
      "[15]\tvalidation_0-rmse:97.65332\tvalidation_1-rmse:105.07003\n",
      "[16]\tvalidation_0-rmse:96.61821\tvalidation_1-rmse:104.27729\n",
      "[17]\tvalidation_0-rmse:95.62900\tvalidation_1-rmse:103.59918\n",
      "[18]\tvalidation_0-rmse:94.75049\tvalidation_1-rmse:103.40816\n",
      "[19]\tvalidation_0-rmse:93.92420\tvalidation_1-rmse:103.02766\n",
      "[20]\tvalidation_0-rmse:93.22466\tvalidation_1-rmse:102.69616\n",
      "[21]\tvalidation_0-rmse:92.63523\tvalidation_1-rmse:102.62962\n",
      "[22]\tvalidation_0-rmse:92.02470\tvalidation_1-rmse:102.32752\n",
      "[23]\tvalidation_0-rmse:91.49437\tvalidation_1-rmse:102.34412\n",
      "[24]\tvalidation_0-rmse:90.95165\tvalidation_1-rmse:102.47426\n",
      "[25]\tvalidation_0-rmse:90.51613\tvalidation_1-rmse:102.44496\n",
      "[26]\tvalidation_0-rmse:90.03237\tvalidation_1-rmse:102.51484\n",
      "[27]\tvalidation_0-rmse:89.61225\tvalidation_1-rmse:102.29899\n",
      "[28]\tvalidation_0-rmse:89.09858\tvalidation_1-rmse:102.42402\n",
      "[29]\tvalidation_0-rmse:88.65456\tvalidation_1-rmse:102.52030\n",
      "[30]\tvalidation_0-rmse:88.36808\tvalidation_1-rmse:102.50366\n",
      "[31]\tvalidation_0-rmse:88.03625\tvalidation_1-rmse:102.68476\n",
      "[32]\tvalidation_0-rmse:87.62500\tvalidation_1-rmse:102.50215\n",
      "[33]\tvalidation_0-rmse:87.30014\tvalidation_1-rmse:102.51665\n",
      "[34]\tvalidation_0-rmse:86.99275\tvalidation_1-rmse:102.43482\n",
      "[35]\tvalidation_0-rmse:86.71482\tvalidation_1-rmse:102.42268\n",
      "[36]\tvalidation_0-rmse:86.45865\tvalidation_1-rmse:102.56298\n",
      "[37]\tvalidation_0-rmse:86.34190\tvalidation_1-rmse:102.55935\n",
      "[38]\tvalidation_0-rmse:86.20988\tvalidation_1-rmse:102.53125\n",
      "[39]\tvalidation_0-rmse:85.90453\tvalidation_1-rmse:102.57978\n",
      "[40]\tvalidation_0-rmse:85.67657\tvalidation_1-rmse:102.64966\n",
      "[41]\tvalidation_0-rmse:85.46970\tvalidation_1-rmse:102.70210\n",
      "[42]\tvalidation_0-rmse:85.19168\tvalidation_1-rmse:102.76609\n",
      "[43]\tvalidation_0-rmse:85.07403\tvalidation_1-rmse:102.74938\n",
      "[44]\tvalidation_0-rmse:84.83523\tvalidation_1-rmse:102.70567\n",
      "[45]\tvalidation_0-rmse:84.66071\tvalidation_1-rmse:102.72243\n",
      "[46]\tvalidation_0-rmse:84.42783\tvalidation_1-rmse:102.67189\n",
      "[47]\tvalidation_0-rmse:84.25019\tvalidation_1-rmse:102.76347\n",
      "[48]\tvalidation_0-rmse:84.05220\tvalidation_1-rmse:102.76288\n",
      "[49]\tvalidation_0-rmse:83.88879\tvalidation_1-rmse:102.81593\n",
      "[50]\tvalidation_0-rmse:83.77745\tvalidation_1-rmse:102.67874\n",
      "[51]\tvalidation_0-rmse:83.49144\tvalidation_1-rmse:102.66455\n",
      "[52]\tvalidation_0-rmse:83.31200\tvalidation_1-rmse:102.70377\n",
      "[53]\tvalidation_0-rmse:83.19800\tvalidation_1-rmse:102.62026\n",
      "[54]\tvalidation_0-rmse:83.02451\tvalidation_1-rmse:102.68817\n",
      "[55]\tvalidation_0-rmse:82.89839\tvalidation_1-rmse:102.67443\n",
      "[56]\tvalidation_0-rmse:82.78829\tvalidation_1-rmse:102.70331\n",
      "[57]\tvalidation_0-rmse:82.71426\tvalidation_1-rmse:102.76096\n",
      "[58]\tvalidation_0-rmse:82.57810\tvalidation_1-rmse:102.85950\n",
      "[59]\tvalidation_0-rmse:82.39520\tvalidation_1-rmse:102.80629\n",
      "[60]\tvalidation_0-rmse:82.28312\tvalidation_1-rmse:102.78889\n",
      "[61]\tvalidation_0-rmse:82.14050\tvalidation_1-rmse:102.77059\n",
      "[62]\tvalidation_0-rmse:82.01680\tvalidation_1-rmse:102.72944\n",
      "[63]\tvalidation_0-rmse:81.91409\tvalidation_1-rmse:102.74234\n",
      "[64]\tvalidation_0-rmse:81.76026\tvalidation_1-rmse:102.77149\n",
      "[65]\tvalidation_0-rmse:81.62380\tvalidation_1-rmse:102.85663\n",
      "[66]\tvalidation_0-rmse:81.48621\tvalidation_1-rmse:102.87637\n",
      "[67]\tvalidation_0-rmse:81.40649\tvalidation_1-rmse:102.84759\n",
      "[68]\tvalidation_0-rmse:81.26140\tvalidation_1-rmse:102.84511\n",
      "[69]\tvalidation_0-rmse:81.08503\tvalidation_1-rmse:102.78572\n",
      "[70]\tvalidation_0-rmse:80.99868\tvalidation_1-rmse:102.82681\n",
      "[71]\tvalidation_0-rmse:80.89537\tvalidation_1-rmse:102.83348\n",
      "[72]\tvalidation_0-rmse:80.71112\tvalidation_1-rmse:102.88643\n",
      "[73]\tvalidation_0-rmse:80.59147\tvalidation_1-rmse:102.96733\n",
      "[74]\tvalidation_0-rmse:80.48887\tvalidation_1-rmse:102.94347\n",
      "[75]\tvalidation_0-rmse:80.30000\tvalidation_1-rmse:102.95396\n",
      "[76]\tvalidation_0-rmse:80.19002\tvalidation_1-rmse:102.90045\n",
      "[77]\tvalidation_0-rmse:80.06858\tvalidation_1-rmse:102.94598\n",
      "[78]\tvalidation_0-rmse:79.93286\tvalidation_1-rmse:102.98395\n",
      "[79]\tvalidation_0-rmse:79.87716\tvalidation_1-rmse:102.95761\n",
      "[80]\tvalidation_0-rmse:79.72804\tvalidation_1-rmse:102.95952\n",
      "[81]\tvalidation_0-rmse:79.55199\tvalidation_1-rmse:102.92423\n",
      "[82]\tvalidation_0-rmse:79.48261\tvalidation_1-rmse:102.94664\n",
      "[83]\tvalidation_0-rmse:79.44630\tvalidation_1-rmse:102.92550\n",
      "[84]\tvalidation_0-rmse:79.29346\tvalidation_1-rmse:102.92370\n",
      "[85]\tvalidation_0-rmse:79.21136\tvalidation_1-rmse:102.93967\n",
      "[86]\tvalidation_0-rmse:79.04041\tvalidation_1-rmse:102.96305\n",
      "[87]\tvalidation_0-rmse:78.91820\tvalidation_1-rmse:102.93982\n",
      "[88]\tvalidation_0-rmse:78.80437\tvalidation_1-rmse:102.95508\n",
      "[89]\tvalidation_0-rmse:78.71256\tvalidation_1-rmse:102.98380\n",
      "[90]\tvalidation_0-rmse:78.64284\tvalidation_1-rmse:103.00530\n",
      "[91]\tvalidation_0-rmse:78.55968\tvalidation_1-rmse:102.99038\n",
      "[92]\tvalidation_0-rmse:78.43893\tvalidation_1-rmse:103.02800\n",
      "[93]\tvalidation_0-rmse:78.35342\tvalidation_1-rmse:103.01182\n",
      "[94]\tvalidation_0-rmse:78.28139\tvalidation_1-rmse:103.07418\n",
      "[95]\tvalidation_0-rmse:78.14871\tvalidation_1-rmse:103.08744\n",
      "[96]\tvalidation_0-rmse:77.99297\tvalidation_1-rmse:103.12231\n",
      "[97]\tvalidation_0-rmse:77.93664\tvalidation_1-rmse:103.22096\n",
      "[98]\tvalidation_0-rmse:77.87469\tvalidation_1-rmse:103.19374\n",
      "[99]\tvalidation_0-rmse:77.72925\tvalidation_1-rmse:103.18246\n"
     ]
    },
    {
     "data": {
      "text/html": [
       "<style>#sk-container-id-10 {color: black;background-color: white;}#sk-container-id-10 pre{padding: 0;}#sk-container-id-10 div.sk-toggleable {background-color: white;}#sk-container-id-10 label.sk-toggleable__label {cursor: pointer;display: block;width: 100%;margin-bottom: 0;padding: 0.3em;box-sizing: border-box;text-align: center;}#sk-container-id-10 label.sk-toggleable__label-arrow:before {content: \"▸\";float: left;margin-right: 0.25em;color: #696969;}#sk-container-id-10 label.sk-toggleable__label-arrow:hover:before {color: black;}#sk-container-id-10 div.sk-estimator:hover label.sk-toggleable__label-arrow:before {color: black;}#sk-container-id-10 div.sk-toggleable__content {max-height: 0;max-width: 0;overflow: hidden;text-align: left;background-color: #f0f8ff;}#sk-container-id-10 div.sk-toggleable__content pre {margin: 0.2em;color: black;border-radius: 0.25em;background-color: #f0f8ff;}#sk-container-id-10 input.sk-toggleable__control:checked~div.sk-toggleable__content {max-height: 200px;max-width: 100%;overflow: auto;}#sk-container-id-10 input.sk-toggleable__control:checked~label.sk-toggleable__label-arrow:before {content: \"▾\";}#sk-container-id-10 div.sk-estimator input.sk-toggleable__control:checked~label.sk-toggleable__label {background-color: #d4ebff;}#sk-container-id-10 div.sk-label input.sk-toggleable__control:checked~label.sk-toggleable__label {background-color: #d4ebff;}#sk-container-id-10 input.sk-hidden--visually {border: 0;clip: rect(1px 1px 1px 1px);clip: rect(1px, 1px, 1px, 1px);height: 1px;margin: -1px;overflow: hidden;padding: 0;position: absolute;width: 1px;}#sk-container-id-10 div.sk-estimator {font-family: monospace;background-color: #f0f8ff;border: 1px dotted black;border-radius: 0.25em;box-sizing: border-box;margin-bottom: 0.5em;}#sk-container-id-10 div.sk-estimator:hover {background-color: #d4ebff;}#sk-container-id-10 div.sk-parallel-item::after {content: \"\";width: 100%;border-bottom: 1px solid gray;flex-grow: 1;}#sk-container-id-10 div.sk-label:hover label.sk-toggleable__label {background-color: #d4ebff;}#sk-container-id-10 div.sk-serial::before {content: \"\";position: absolute;border-left: 1px solid gray;box-sizing: border-box;top: 0;bottom: 0;left: 50%;z-index: 0;}#sk-container-id-10 div.sk-serial {display: flex;flex-direction: column;align-items: center;background-color: white;padding-right: 0.2em;padding-left: 0.2em;position: relative;}#sk-container-id-10 div.sk-item {position: relative;z-index: 1;}#sk-container-id-10 div.sk-parallel {display: flex;align-items: stretch;justify-content: center;background-color: white;position: relative;}#sk-container-id-10 div.sk-item::before, #sk-container-id-10 div.sk-parallel-item::before {content: \"\";position: absolute;border-left: 1px solid gray;box-sizing: border-box;top: 0;bottom: 0;left: 50%;z-index: -1;}#sk-container-id-10 div.sk-parallel-item {display: flex;flex-direction: column;z-index: 1;position: relative;background-color: white;}#sk-container-id-10 div.sk-parallel-item:first-child::after {align-self: flex-end;width: 50%;}#sk-container-id-10 div.sk-parallel-item:last-child::after {align-self: flex-start;width: 50%;}#sk-container-id-10 div.sk-parallel-item:only-child::after {width: 0;}#sk-container-id-10 div.sk-dashed-wrapped {border: 1px dashed gray;margin: 0 0.4em 0.5em 0.4em;box-sizing: border-box;padding-bottom: 0.4em;background-color: white;}#sk-container-id-10 div.sk-label label {font-family: monospace;font-weight: bold;display: inline-block;line-height: 1.2em;}#sk-container-id-10 div.sk-label-container {text-align: center;}#sk-container-id-10 div.sk-container {/* jupyter's `normalize.less` sets `[hidden] { display: none; }` but bootstrap.min.css set `[hidden] { display: none !important; }` so we also need the `!important` here to be able to override the default hidden behavior on the sphinx rendered scikit-learn.org. See: https://github.com/scikit-learn/scikit-learn/issues/21755 */display: inline-block !important;position: relative;}#sk-container-id-10 div.sk-text-repr-fallback {display: none;}</style><div id=\"sk-container-id-10\" class=\"sk-top-container\"><div class=\"sk-text-repr-fallback\"><pre>XGBRegressor(base_score=None, booster=None, callbacks=None,\n",
       "             colsample_bylevel=None, colsample_bynode=None,\n",
       "             colsample_bytree=0.7, early_stopping_rounds=None,\n",
       "             enable_categorical=False, eval_metric=&#x27;rmse&#x27;, feature_types=None,\n",
       "             gamma=None, gpu_id=None, grow_policy=None, importance_type=None,\n",
       "             interaction_constraints=None, learning_rate=0.1, max_bin=None,\n",
       "             max_cat_threshold=None, max_cat_to_onehot=None,\n",
       "             max_delta_step=None, max_depth=5, max_leaves=None,\n",
       "             min_child_weight=None, missing=nan, monotone_constraints=None,\n",
       "             n_estimators=100, n_jobs=None, num_parallel_tree=None,\n",
       "             predictor=None, random_state=None, ...)</pre><b>In a Jupyter environment, please rerun this cell to show the HTML representation or trust the notebook. <br />On GitHub, the HTML representation is unable to render, please try loading this page with nbviewer.org.</b></div><div class=\"sk-container\" hidden><div class=\"sk-item\"><div class=\"sk-estimator sk-toggleable\"><input class=\"sk-toggleable__control sk-hidden--visually\" id=\"sk-estimator-id-10\" type=\"checkbox\" checked><label for=\"sk-estimator-id-10\" class=\"sk-toggleable__label sk-toggleable__label-arrow\">XGBRegressor</label><div class=\"sk-toggleable__content\"><pre>XGBRegressor(base_score=None, booster=None, callbacks=None,\n",
       "             colsample_bylevel=None, colsample_bynode=None,\n",
       "             colsample_bytree=0.7, early_stopping_rounds=None,\n",
       "             enable_categorical=False, eval_metric=&#x27;rmse&#x27;, feature_types=None,\n",
       "             gamma=None, gpu_id=None, grow_policy=None, importance_type=None,\n",
       "             interaction_constraints=None, learning_rate=0.1, max_bin=None,\n",
       "             max_cat_threshold=None, max_cat_to_onehot=None,\n",
       "             max_delta_step=None, max_depth=5, max_leaves=None,\n",
       "             min_child_weight=None, missing=nan, monotone_constraints=None,\n",
       "             n_estimators=100, n_jobs=None, num_parallel_tree=None,\n",
       "             predictor=None, random_state=None, ...)</pre></div></div></div></div></div>"
      ],
      "text/plain": [
       "XGBRegressor(base_score=None, booster=None, callbacks=None,\n",
       "             colsample_bylevel=None, colsample_bynode=None,\n",
       "             colsample_bytree=0.7, early_stopping_rounds=None,\n",
       "             enable_categorical=False, eval_metric='rmse', feature_types=None,\n",
       "             gamma=None, gpu_id=None, grow_policy=None, importance_type=None,\n",
       "             interaction_constraints=None, learning_rate=0.1, max_bin=None,\n",
       "             max_cat_threshold=None, max_cat_to_onehot=None,\n",
       "             max_delta_step=None, max_depth=5, max_leaves=None,\n",
       "             min_child_weight=None, missing=nan, monotone_constraints=None,\n",
       "             n_estimators=100, n_jobs=None, num_parallel_tree=None,\n",
       "             predictor=None, random_state=None, ...)"
      ]
     },
     "execution_count": 54,
     "metadata": {},
     "output_type": "execute_result"
    }
   ],
   "source": [
    "from sklearn.metrics import mean_absolute_error\n",
    "reg = XGBRegressor( learning_rate =model.learning_rate ,\n",
    "                     max_depth =model.max_depth ,\n",
    "                     min_child_weight =model.min_child_weight ,\n",
    "                     subsample =model.subsample ,\n",
    "                     colsample_bytree =model.colsample_bytree ,\n",
    "                     n_estimators =model.n_estimators ,\n",
    "                     objective='reg:squarederror', \n",
    "                     reg_alpha = model.reg_alpha,\n",
    "                     reg_lambda = model.reg_lambda,\n",
    "                     eval_metric='rmse')\n",
    "\n",
    "reg.fit(X_train_transformed, y_train, eval_set=[(X_train_transformed, y_train),(X_test_transformed, y_test)])"
   ]
  },
  {
   "cell_type": "code",
   "execution_count": null,
   "id": "919e9f07",
   "metadata": {},
   "outputs": [],
   "source": []
  },
  {
   "cell_type": "code",
   "execution_count": 55,
   "id": "743f4af8",
   "metadata": {},
   "outputs": [
    {
     "data": {
      "image/png": "[encoded data removed]",
      "text/plain": [
       "<Figure size 640x480 with 1 Axes>"
      ]
     },
     "metadata": {},
     "output_type": "display_data"
    }
   ],
   "source": [
    "results = reg.evals_result()\n",
    "\n",
    "# plot learning curves\n",
    "plt.plot(results['validation_0']['rmse'], label='train')\n",
    "plt.plot(results['validation_1']['rmse'], label='test')\n",
    "# show the legend\n",
    "plt.legend()\n",
    "plt.ylabel(\"rmse\")\n",
    "plt.title(\"loss = squarederror\")\n",
    "# show the plot\n",
    "plt.savefig(\"gif/loss_convergence_squaredlogerror_eval_rmse.png\")\n",
    "plt.show()"
   ]
  },
  {
   "cell_type": "code",
   "execution_count": null,
   "id": "54d7b283",
   "metadata": {},
   "outputs": [],
   "source": []
  }
 ],
 "metadata": {
  "kernelspec": {
   "display_name": "moonactive_venv",
   "language": "python",
   "name": "moonactive_venv"
  },
  "language_info": {
   "codemirror_mode": {
    "name": "ipython",
    "version": 3
   },
   "file_extension": ".py",
   "mimetype": "text/x-python",
   "name": "python",
   "nbconvert_exporter": "python",
   "pygments_lexer": "ipython3",
   "version": "3.9.13"
  }
 },
 "nbformat": 4,
 "nbformat_minor": 5
}
