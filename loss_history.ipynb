{
 "cells": [
  {
   "cell_type": "code",
   "execution_count": 26,
   "id": "bf643e81",
   "metadata": {},
   "outputs": [],
   "source": [
    "from utils import get_data, load_model , dictionry_to_class\n",
    "from xgboost import XGBRegressor\n",
    "import matplotlib.pyplot as plt"
   ]
  },
  {
   "cell_type": "code",
   "execution_count": 4,
   "id": "3fad4fd8",
   "metadata": {},
   "outputs": [],
   "source": [
    "#Define the configurations as a dictionary (*for further research, it is preferable to move it into a separate file out of the code).\n",
    "\n",
    "configs_dict = dict(train_data_path = \"data/train_home_assignment_.csv\",\n",
    "                   target_col = \"org_price_usd_following_30_days\",\n",
    "                   columns_to_drop = [\"treatment\", \"org_price_usd_following_30_days_after_impact\"],\n",
    "                   models_directory = \"models\",\n",
    "                   model_name = \"xbg_regressor_model_task1\",\n",
    "                   time_format = \"%Y_%m_%d-%H_%M_%S\",\n",
    "                   model_file_type = \"json\",\n",
    "                   model_path = \"models/xbg_regressor_model_2023_04_14-09_00_07.json\",\n",
    "                   treatment_col_name = \"treatment\",\n",
    "                   new_treatment_col_name = \"optimal_treatment\",\n",
    "                   data_directory = \"data\",\n",
    "                   test_size = 0.2,\n",
    "                   treatment_values = [2,10])\n",
    "\n",
    "# Convert dictionary into class \n",
    "configs = dictionry_to_class(configs_dict)"
   ]
  },
  {
   "cell_type": "code",
   "execution_count": 6,
   "id": "3f52a0ab",
   "metadata": {},
   "outputs": [],
   "source": [
    "# Load data, remove unnecessary columns, split to train test \n",
    "X_train, X_test, y_train, y_test = get_data(path = configs.train_data_path, \n",
    "                                            target_col = configs.target_col, \n",
    "                                            test_size = configs.test_size,\n",
    "                                            columns_to_drop = configs.columns_to_drop)"
   ]
  },
  {
   "cell_type": "code",
   "execution_count": 9,
   "id": "33138dd9",
   "metadata": {},
   "outputs": [],
   "source": [
    "xgb_regressor_gs_cv_pipline = load_model(model_path = configs.model_path)\n",
    "model = xgb_regressor_gs_cv_pipline.best_estimator_.named_steps.regressor"
   ]
  },
  {
   "cell_type": "code",
   "execution_count": 28,
   "id": "e124bb19",
   "metadata": {},
   "outputs": [],
   "source": [
    "X_train_transformed = xgb_regressor_gs_cv_pipline.best_estimator_.named_steps.preprocessor.transform(X_train)\n",
    "X_test_transformed = xgb_regressor_gs_cv_pipline.best_estimator_.named_steps.preprocessor.transform(X_test)"
   ]
  },
  {
   "cell_type": "code",
   "execution_count": 38,
   "id": "086bda48",
   "metadata": {
    "scrolled": true
   },
   "outputs": [
    {
     "name": "stdout",
     "output_type": "stream",
     "text": [
      "[0]\tvalidation_0-rmse:165.27048\tvalidation_1-rmse:164.50026\n",
      "[1]\tvalidation_0-rmse:165.24012\tvalidation_1-rmse:164.47069\n",
      "[2]\tvalidation_0-rmse:165.20770\tvalidation_1-rmse:164.43913\n",
      "[3]\tvalidation_0-rmse:165.17312\tvalidation_1-rmse:164.40549\n",
      "[4]\tvalidation_0-rmse:165.13623\tvalidation_1-rmse:164.36962\n",
      "[5]\tvalidation_0-rmse:165.09691\tvalidation_1-rmse:164.33140\n",
      "[6]\tvalidation_0-rmse:165.05499\tvalidation_1-rmse:164.29066\n",
      "[7]\tvalidation_0-rmse:165.01033\tvalidation_1-rmse:164.24731\n",
      "[8]\tvalidation_0-rmse:164.96278\tvalidation_1-rmse:164.20116\n",
      "[9]\tvalidation_0-rmse:164.91221\tvalidation_1-rmse:164.15210\n",
      "[10]\tvalidation_0-rmse:164.85848\tvalidation_1-rmse:164.10000\n",
      "[11]\tvalidation_0-rmse:164.80150\tvalidation_1-rmse:164.04477\n",
      "[12]\tvalidation_0-rmse:164.74109\tvalidation_1-rmse:163.98624\n",
      "[13]\tvalidation_0-rmse:164.67701\tvalidation_1-rmse:163.92420\n",
      "[14]\tvalidation_0-rmse:164.60910\tvalidation_1-rmse:163.85846\n",
      "[15]\tvalidation_0-rmse:164.53721\tvalidation_1-rmse:163.78888\n",
      "[16]\tvalidation_0-rmse:164.46111\tvalidation_1-rmse:163.71528\n",
      "[17]\tvalidation_0-rmse:164.38084\tvalidation_1-rmse:163.63776\n",
      "[18]\tvalidation_0-rmse:164.29608\tvalidation_1-rmse:163.55586\n",
      "[19]\tvalidation_0-rmse:164.20646\tvalidation_1-rmse:163.46942\n",
      "[20]\tvalidation_0-rmse:164.11197\tvalidation_1-rmse:163.37824\n",
      "[21]\tvalidation_0-rmse:164.01213\tvalidation_1-rmse:163.28207\n",
      "[22]\tvalidation_0-rmse:163.90682\tvalidation_1-rmse:163.18052\n",
      "[23]\tvalidation_0-rmse:163.79590\tvalidation_1-rmse:163.07375\n",
      "[24]\tvalidation_0-rmse:163.67946\tvalidation_1-rmse:162.96161\n",
      "[25]\tvalidation_0-rmse:163.55667\tvalidation_1-rmse:162.84347\n",
      "[26]\tvalidation_0-rmse:163.42872\tvalidation_1-rmse:162.72031\n",
      "[27]\tvalidation_0-rmse:163.29392\tvalidation_1-rmse:162.59072\n",
      "[28]\tvalidation_0-rmse:163.15230\tvalidation_1-rmse:162.45454\n",
      "[29]\tvalidation_0-rmse:163.00437\tvalidation_1-rmse:162.31242\n",
      "[30]\tvalidation_0-rmse:162.84908\tvalidation_1-rmse:162.16306\n",
      "[31]\tvalidation_0-rmse:162.68677\tvalidation_1-rmse:162.00723\n",
      "[32]\tvalidation_0-rmse:162.51898\tvalidation_1-rmse:161.84619\n",
      "[33]\tvalidation_0-rmse:162.34608\tvalidation_1-rmse:161.68060\n",
      "[34]\tvalidation_0-rmse:162.16534\tvalidation_1-rmse:161.50813\n",
      "[35]\tvalidation_0-rmse:161.97581\tvalidation_1-rmse:161.32615\n",
      "[36]\tvalidation_0-rmse:161.77889\tvalidation_1-rmse:161.13692\n",
      "[37]\tvalidation_0-rmse:161.57408\tvalidation_1-rmse:160.94014\n",
      "[38]\tvalidation_0-rmse:161.36675\tvalidation_1-rmse:160.74321\n",
      "[39]\tvalidation_0-rmse:161.15320\tvalidation_1-rmse:160.54058\n",
      "[40]\tvalidation_0-rmse:160.94163\tvalidation_1-rmse:160.33980\n",
      "[41]\tvalidation_0-rmse:160.71610\tvalidation_1-rmse:160.12681\n",
      "[42]\tvalidation_0-rmse:160.48418\tvalidation_1-rmse:159.90793\n",
      "[43]\tvalidation_0-rmse:160.25087\tvalidation_1-rmse:159.68448\n",
      "[44]\tvalidation_0-rmse:160.00990\tvalidation_1-rmse:159.45545\n",
      "[45]\tvalidation_0-rmse:159.77527\tvalidation_1-rmse:159.23452\n",
      "[46]\tvalidation_0-rmse:159.53307\tvalidation_1-rmse:159.00335\n",
      "[47]\tvalidation_0-rmse:159.28885\tvalidation_1-rmse:158.77344\n",
      "[48]\tvalidation_0-rmse:159.03941\tvalidation_1-rmse:158.53571\n",
      "[49]\tvalidation_0-rmse:158.79597\tvalidation_1-rmse:158.30756\n",
      "[50]\tvalidation_0-rmse:158.54090\tvalidation_1-rmse:158.06442\n",
      "[51]\tvalidation_0-rmse:158.29577\tvalidation_1-rmse:157.82980\n",
      "[52]\tvalidation_0-rmse:158.05111\tvalidation_1-rmse:157.59563\n",
      "[53]\tvalidation_0-rmse:157.80860\tvalidation_1-rmse:157.36373\n",
      "[54]\tvalidation_0-rmse:157.56626\tvalidation_1-rmse:157.13297\n",
      "[55]\tvalidation_0-rmse:157.32252\tvalidation_1-rmse:156.90045\n",
      "[56]\tvalidation_0-rmse:157.08621\tvalidation_1-rmse:156.67582\n",
      "[57]\tvalidation_0-rmse:156.86018\tvalidation_1-rmse:156.46254\n",
      "[58]\tvalidation_0-rmse:156.63396\tvalidation_1-rmse:156.25039\n",
      "[59]\tvalidation_0-rmse:156.40921\tvalidation_1-rmse:156.04030\n",
      "[60]\tvalidation_0-rmse:156.18552\tvalidation_1-rmse:155.83073\n",
      "[61]\tvalidation_0-rmse:155.96625\tvalidation_1-rmse:155.62382\n",
      "[62]\tvalidation_0-rmse:155.72945\tvalidation_1-rmse:155.40711\n",
      "[63]\tvalidation_0-rmse:155.50929\tvalidation_1-rmse:155.19997\n",
      "[64]\tvalidation_0-rmse:155.30099\tvalidation_1-rmse:155.00405\n",
      "[65]\tvalidation_0-rmse:155.09044\tvalidation_1-rmse:154.80530\n",
      "[66]\tvalidation_0-rmse:154.89223\tvalidation_1-rmse:154.61973\n",
      "[67]\tvalidation_0-rmse:154.70611\tvalidation_1-rmse:154.44422\n",
      "[68]\tvalidation_0-rmse:154.51920\tvalidation_1-rmse:154.26801\n",
      "[69]\tvalidation_0-rmse:154.33681\tvalidation_1-rmse:154.09740\n",
      "[70]\tvalidation_0-rmse:154.17263\tvalidation_1-rmse:153.94364\n",
      "[71]\tvalidation_0-rmse:154.00842\tvalidation_1-rmse:153.79136\n",
      "[72]\tvalidation_0-rmse:153.86145\tvalidation_1-rmse:153.65426\n",
      "[73]\tvalidation_0-rmse:153.69820\tvalidation_1-rmse:153.50188\n",
      "[74]\tvalidation_0-rmse:153.55227\tvalidation_1-rmse:153.36507\n",
      "[75]\tvalidation_0-rmse:153.41451\tvalidation_1-rmse:153.23602\n",
      "[76]\tvalidation_0-rmse:153.26841\tvalidation_1-rmse:153.10093\n",
      "[77]\tvalidation_0-rmse:153.13607\tvalidation_1-rmse:152.97687\n",
      "[78]\tvalidation_0-rmse:153.00726\tvalidation_1-rmse:152.85636\n",
      "[79]\tvalidation_0-rmse:152.88367\tvalidation_1-rmse:152.73961\n",
      "[80]\tvalidation_0-rmse:152.75457\tvalidation_1-rmse:152.61970\n",
      "[81]\tvalidation_0-rmse:152.64074\tvalidation_1-rmse:152.51300\n",
      "[82]\tvalidation_0-rmse:152.50452\tvalidation_1-rmse:152.38537\n",
      "[83]\tvalidation_0-rmse:152.40309\tvalidation_1-rmse:152.29010\n",
      "[84]\tvalidation_0-rmse:152.29118\tvalidation_1-rmse:152.18603\n",
      "[85]\tvalidation_0-rmse:152.19952\tvalidation_1-rmse:152.09799\n",
      "[86]\tvalidation_0-rmse:152.10108\tvalidation_1-rmse:152.00559\n",
      "[87]\tvalidation_0-rmse:152.00149\tvalidation_1-rmse:151.91260\n",
      "[88]\tvalidation_0-rmse:151.91726\tvalidation_1-rmse:151.83272\n",
      "[89]\tvalidation_0-rmse:151.81202\tvalidation_1-rmse:151.73477\n",
      "[90]\tvalidation_0-rmse:151.73122\tvalidation_1-rmse:151.65829\n",
      "[91]\tvalidation_0-rmse:151.64352\tvalidation_1-rmse:151.57555\n",
      "[92]\tvalidation_0-rmse:151.54395\tvalidation_1-rmse:151.48321\n",
      "[93]\tvalidation_0-rmse:151.45968\tvalidation_1-rmse:151.40487\n",
      "[94]\tvalidation_0-rmse:151.37375\tvalidation_1-rmse:151.32418\n",
      "[95]\tvalidation_0-rmse:151.29287\tvalidation_1-rmse:151.24801\n",
      "[96]\tvalidation_0-rmse:151.22134\tvalidation_1-rmse:151.18086\n",
      "[97]\tvalidation_0-rmse:151.13545\tvalidation_1-rmse:151.10130\n",
      "[98]\tvalidation_0-rmse:151.07724\tvalidation_1-rmse:151.04552\n",
      "[99]\tvalidation_0-rmse:151.02477\tvalidation_1-rmse:150.99595\n"
     ]
    },
    {
     "data": {
      "text/html": [
       "<style>#sk-container-id-8 {color: black;background-color: white;}#sk-container-id-8 pre{padding: 0;}#sk-container-id-8 div.sk-toggleable {background-color: white;}#sk-container-id-8 label.sk-toggleable__label {cursor: pointer;display: block;width: 100%;margin-bottom: 0;padding: 0.3em;box-sizing: border-box;text-align: center;}#sk-container-id-8 label.sk-toggleable__label-arrow:before {content: \"▸\";float: left;margin-right: 0.25em;color: #696969;}#sk-container-id-8 label.sk-toggleable__label-arrow:hover:before {color: black;}#sk-container-id-8 div.sk-estimator:hover label.sk-toggleable__label-arrow:before {color: black;}#sk-container-id-8 div.sk-toggleable__content {max-height: 0;max-width: 0;overflow: hidden;text-align: left;background-color: #f0f8ff;}#sk-container-id-8 div.sk-toggleable__content pre {margin: 0.2em;color: black;border-radius: 0.25em;background-color: #f0f8ff;}#sk-container-id-8 input.sk-toggleable__control:checked~div.sk-toggleable__content {max-height: 200px;max-width: 100%;overflow: auto;}#sk-container-id-8 input.sk-toggleable__control:checked~label.sk-toggleable__label-arrow:before {content: \"▾\";}#sk-container-id-8 div.sk-estimator input.sk-toggleable__control:checked~label.sk-toggleable__label {background-color: #d4ebff;}#sk-container-id-8 div.sk-label input.sk-toggleable__control:checked~label.sk-toggleable__label {background-color: #d4ebff;}#sk-container-id-8 input.sk-hidden--visually {border: 0;clip: rect(1px 1px 1px 1px);clip: rect(1px, 1px, 1px, 1px);height: 1px;margin: -1px;overflow: hidden;padding: 0;position: absolute;width: 1px;}#sk-container-id-8 div.sk-estimator {font-family: monospace;background-color: #f0f8ff;border: 1px dotted black;border-radius: 0.25em;box-sizing: border-box;margin-bottom: 0.5em;}#sk-container-id-8 div.sk-estimator:hover {background-color: #d4ebff;}#sk-container-id-8 div.sk-parallel-item::after {content: \"\";width: 100%;border-bottom: 1px solid gray;flex-grow: 1;}#sk-container-id-8 div.sk-label:hover label.sk-toggleable__label {background-color: #d4ebff;}#sk-container-id-8 div.sk-serial::before {content: \"\";position: absolute;border-left: 1px solid gray;box-sizing: border-box;top: 0;bottom: 0;left: 50%;z-index: 0;}#sk-container-id-8 div.sk-serial {display: flex;flex-direction: column;align-items: center;background-color: white;padding-right: 0.2em;padding-left: 0.2em;position: relative;}#sk-container-id-8 div.sk-item {position: relative;z-index: 1;}#sk-container-id-8 div.sk-parallel {display: flex;align-items: stretch;justify-content: center;background-color: white;position: relative;}#sk-container-id-8 div.sk-item::before, #sk-container-id-8 div.sk-parallel-item::before {content: \"\";position: absolute;border-left: 1px solid gray;box-sizing: border-box;top: 0;bottom: 0;left: 50%;z-index: -1;}#sk-container-id-8 div.sk-parallel-item {display: flex;flex-direction: column;z-index: 1;position: relative;background-color: white;}#sk-container-id-8 div.sk-parallel-item:first-child::after {align-self: flex-end;width: 50%;}#sk-container-id-8 div.sk-parallel-item:last-child::after {align-self: flex-start;width: 50%;}#sk-container-id-8 div.sk-parallel-item:only-child::after {width: 0;}#sk-container-id-8 div.sk-dashed-wrapped {border: 1px dashed gray;margin: 0 0.4em 0.5em 0.4em;box-sizing: border-box;padding-bottom: 0.4em;background-color: white;}#sk-container-id-8 div.sk-label label {font-family: monospace;font-weight: bold;display: inline-block;line-height: 1.2em;}#sk-container-id-8 div.sk-label-container {text-align: center;}#sk-container-id-8 div.sk-container {/* jupyter's `normalize.less` sets `[hidden] { display: none; }` but bootstrap.min.css set `[hidden] { display: none !important; }` so we also need the `!important` here to be able to override the default hidden behavior on the sphinx rendered scikit-learn.org. See: https://github.com/scikit-learn/scikit-learn/issues/21755 */display: inline-block !important;position: relative;}#sk-container-id-8 div.sk-text-repr-fallback {display: none;}</style><div id=\"sk-container-id-8\" class=\"sk-top-container\"><div class=\"sk-text-repr-fallback\"><pre>XGBRegressor(base_score=None, booster=None, callbacks=None,\n",
       "             colsample_bylevel=None, colsample_bynode=None,\n",
       "             colsample_bytree=None, early_stopping_rounds=None,\n",
       "             enable_categorical=False, eval_metric=&#x27;rmse&#x27;, feature_types=None,\n",
       "             gamma=None, gpu_id=None, grow_policy=None, importance_type=None,\n",
       "             interaction_constraints=None, learning_rate=0.1, max_bin=None,\n",
       "             max_cat_threshold=None, max_cat_to_onehot=None,\n",
       "             max_delta_step=None, max_depth=6, max_leaves=None,\n",
       "             min_child_weight=None, missing=nan, monotone_constraints=None,\n",
       "             n_estimators=100, n_jobs=None, num_parallel_tree=None,\n",
       "             objective=&#x27;reg:squaredlogerror&#x27;, predictor=None, ...)</pre><b>In a Jupyter environment, please rerun this cell to show the HTML representation or trust the notebook. <br />On GitHub, the HTML representation is unable to render, please try loading this page with nbviewer.org.</b></div><div class=\"sk-container\" hidden><div class=\"sk-item\"><div class=\"sk-estimator sk-toggleable\"><input class=\"sk-toggleable__control sk-hidden--visually\" id=\"sk-estimator-id-8\" type=\"checkbox\" checked><label for=\"sk-estimator-id-8\" class=\"sk-toggleable__label sk-toggleable__label-arrow\">XGBRegressor</label><div class=\"sk-toggleable__content\"><pre>XGBRegressor(base_score=None, booster=None, callbacks=None,\n",
       "             colsample_bylevel=None, colsample_bynode=None,\n",
       "             colsample_bytree=None, early_stopping_rounds=None,\n",
       "             enable_categorical=False, eval_metric=&#x27;rmse&#x27;, feature_types=None,\n",
       "             gamma=None, gpu_id=None, grow_policy=None, importance_type=None,\n",
       "             interaction_constraints=None, learning_rate=0.1, max_bin=None,\n",
       "             max_cat_threshold=None, max_cat_to_onehot=None,\n",
       "             max_delta_step=None, max_depth=6, max_leaves=None,\n",
       "             min_child_weight=None, missing=nan, monotone_constraints=None,\n",
       "             n_estimators=100, n_jobs=None, num_parallel_tree=None,\n",
       "             objective=&#x27;reg:squaredlogerror&#x27;, predictor=None, ...)</pre></div></div></div></div></div>"
      ],
      "text/plain": [
       "XGBRegressor(base_score=None, booster=None, callbacks=None,\n",
       "             colsample_bylevel=None, colsample_bynode=None,\n",
       "             colsample_bytree=None, early_stopping_rounds=None,\n",
       "             enable_categorical=False, eval_metric='rmse', feature_types=None,\n",
       "             gamma=None, gpu_id=None, grow_policy=None, importance_type=None,\n",
       "             interaction_constraints=None, learning_rate=0.1, max_bin=None,\n",
       "             max_cat_threshold=None, max_cat_to_onehot=None,\n",
       "             max_delta_step=None, max_depth=6, max_leaves=None,\n",
       "             min_child_weight=None, missing=nan, monotone_constraints=None,\n",
       "             n_estimators=100, n_jobs=None, num_parallel_tree=None,\n",
       "             objective='reg:squaredlogerror', predictor=None, ...)"
      ]
     },
     "execution_count": 38,
     "metadata": {},
     "output_type": "execute_result"
    }
   ],
   "source": [
    "from sklearn.datasets import load_diabetes\n",
    "from sklearn.metrics import mean_absolute_error\n",
    "X, y = load_diabetes(return_X_y=True)\n",
    "reg = XGBRegressor(\n",
    "                 learning_rate =model.learning_rate ,\n",
    "                     max_depth =model.max_depth ,\n",
    "                     min_child_weight =model.min_child_weight ,\n",
    "                     subsample =model.subsample ,\n",
    "                     colsample_bytree =model.colsample_bytree ,\n",
    "                     n_estimators =model.n_estimators ,\n",
    "                     objective='reg:squaredlogerror', \n",
    "    eval_metric='rmse',\n",
    ")\n",
    "reg.fit(X_train_transformed, y_train, eval_set=[(X_train_transformed, y_train),(X_test_transformed, y_test)])"
   ]
  },
  {
   "cell_type": "code",
   "execution_count": 39,
   "id": "743f4af8",
   "metadata": {},
   "outputs": [
    {
     "data": {
      "image/png": "[encoded data removed]",
      "text/plain": [
       "<Figure size 640x480 with 1 Axes>"
      ]
     },
     "metadata": {},
     "output_type": "display_data"
    }
   ],
   "source": [
    "results = reg.evals_result()\n",
    "\n",
    "# plot learning curves\n",
    "plt.plot(results['validation_0']['rmse'], label='train')\n",
    "plt.plot(results['validation_1']['rmse'], label='test')\n",
    "# show the legend\n",
    "plt.legend()\n",
    "plt.ylabel(\"rmse\")\n",
    "plt.title(\"loss = squaredlogerror\")\n",
    "# show the plot\n",
    "plt.savefig(\"gif/loss_convergence_squaredlogerror_eval_rmse.png\")\n",
    "plt.show()"
   ]
  },
  {
   "cell_type": "code",
   "execution_count": null,
   "id": "54d7b283",
   "metadata": {},
   "outputs": [],
   "source": []
  }
 ],
 "metadata": {
  "kernelspec": {
   "display_name": "moonactive_venv",
   "language": "python",
   "name": "moonactive_venv"
  },
  "language_info": {
   "codemirror_mode": {
    "name": "ipython",
    "version": 3
   },
   "file_extension": ".py",
   "mimetype": "text/x-python",
   "name": "python",
   "nbconvert_exporter": "python",
   "pygments_lexer": "ipython3",
   "version": "3.9.13"
  }
 },
 "nbformat": 4,
 "nbformat_minor": 5
}
