{
 "cells": [
  {
   "cell_type": "markdown",
   "id": "9899726e",
   "metadata": {},
   "source": [
    "## Back ground"
   ]
  },
  {
   "cell_type": "markdown",
   "id": "6b79dec9",
   "metadata": {},
   "source": [
    "<p align=\"center\">\n",
    "    <img src=\"https://www.shutterstock.com/image-vector/banner-best-offer-260nw-706166626.jpg\"  width=\"400\" height=\"60\">\n",
    "</p>\n",
    "\n"
   ]
  },
  {
   "cell_type": "markdown",
   "id": "8dfa2b47",
   "metadata": {},
   "source": [
    "This section aims to find the best offer for each user based on past experiments. The notebook contains the following main sections: loading data, training an XGBRegressor model on the experiment results, assigning optimal values, and saving assignments for future analysis.\n",
    "\n",
    "For a summary and discussion of the different steps, please review the `README.md` file.\n",
    "\n",
    "To test the results on new data:\n",
    "\n",
    "1. Skip the model training and tuning section (as it may take a long time) and load the data and model, which can be found in the models and data directories, respectively.\n",
    "2. Ensure that the data has the same structure as the data found in the data directory."
   ]
  },
  {
   "cell_type": "markdown",
   "id": "b29f9d1a",
   "metadata": {},
   "source": [
    "## Import Functionality"
   ]
  },
  {
   "cell_type": "code",
   "execution_count": 1,
   "id": "5a8904f2",
   "metadata": {},
   "outputs": [],
   "source": [
    "from utils import (get_data,train_and_tune_xgboost_regressor,save_model,\n",
    "                   load_model,assign_treatment,save_optimal_treatment_as_json,plot_feature_importance,\n",
    "                   dictionry_to_class)\n",
    "from sklearn.metrics import mean_squared_error"
   ]
  },
  {
   "cell_type": "markdown",
   "id": "a54c06cf",
   "metadata": {},
   "source": [
    "## Set configs"
   ]
  },
  {
   "cell_type": "code",
   "execution_count": 18,
   "id": "00c12806",
   "metadata": {},
   "outputs": [],
   "source": [
    "#Define the configurations as a dictionary (*for further research, it is preferable to move it into a separate file out of the code).\n",
    "\n",
    "configs_dict = dict(train_data_path = \"data/train_home_assignment_.csv\",\n",
    "                    test_data_path = \"data/test_home_assignment.csv\",\n",
    "                   target_col = \"org_price_usd_following_30_days_after_impact\",\n",
    "                   columns_to_drop = [\"org_price_usd_following_30_days\"],\n",
    "                   models_directory = \"models\",\n",
    "                   model_name = \"xbg_regressor_model_task2\",\n",
    "                   time_format = \"%Y_%m_%d-%H_%M_%S\",\n",
    "                   model_file_type = \"json\",\n",
    "                   model_path = \"models/xbg_regressor_model_task2_2023_04_14-12_26_20.json\",\n",
    "                   treatment_col_name = \"treatment\",\n",
    "                   new_treatment_col_name = \"optimal_treatment\",\n",
    "                   data_directory = \"data\",\n",
    "                   treatment_values = [2,10])\n",
    "\n",
    "# Convert dictionary into class \n",
    "configs = dictionry_to_class(configs_dict)"
   ]
  },
  {
   "cell_type": "markdown",
   "id": "bf247bd8",
   "metadata": {},
   "source": [
    "# Get data "
   ]
  },
  {
   "cell_type": "code",
   "execution_count": 3,
   "id": "b1d369fd",
   "metadata": {},
   "outputs": [],
   "source": [
    "# Load data, remove unnecessary columns, split to train test \n",
    "X_train, y_train = get_data(path = configs.train_data_path, \n",
    "                            target_col = configs.target_col, \n",
    "                            columns_to_drop = configs.columns_to_drop,\n",
    "                            test_size = 0)"
   ]
  },
  {
   "cell_type": "code",
   "execution_count": 4,
   "id": "4cacbc8e",
   "metadata": {},
   "outputs": [],
   "source": [
    "# Load data, remove unnecessary columns, split to train test \n",
    "X_test = get_data(path = configs.test_data_path, \n",
    "                  target_col = configs.target_col, \n",
    "                  columns_to_drop = configs.columns_to_drop,\n",
    "                  test_size = 0)"
   ]
  },
  {
   "cell_type": "markdown",
   "id": "4d5d2793",
   "metadata": {},
   "source": [
    "### Transormation, training and tuning"
   ]
  },
  {
   "cell_type": "markdown",
   "id": "1347f74f",
   "metadata": {},
   "source": [
    "\n",
    "For testing on nee data, skip the model training and tuning section (**as it may take a long time**) and load the data and model, which can be found in the models and data directories, respectively.\n",
    "\n",
    "<p align=\"center\">\n",
    "    <img src=\"https://media.licdn.com/dms/image/C5112AQFd4E7xHBD7dw/article-inline_image-shrink_1000_1488/0/1520169270725?e=1686182400&v=beta&t=h_8hxM8WUqitvDX4WGcQlqpWLiZyeUIsKDEQmR1DAAY\"  width=\"100\" height=\"40\">\n",
    "</p>\n",
    "\n",
    "\n"
   ]
  },
  {
   "cell_type": "code",
   "execution_count": 5,
   "id": "a0b5636e",
   "metadata": {},
   "outputs": [],
   "source": [
    "# Run data trasformation, grid search and cross validation\n",
    "grid_search = train_and_tune_xgboost_regressor(X_train = X_train,\n",
    "                                               y_train= y_train,\n",
    "                                               numeric_cols = X_train.columns, \n",
    "                                               loss = 'squarederror',\n",
    "                                               verbose = 0)"
   ]
  },
  {
   "cell_type": "markdown",
   "id": "07099626",
   "metadata": {},
   "source": [
    "### Save and load model"
   ]
  },
  {
   "cell_type": "code",
   "execution_count": 6,
   "id": "91bb03e6",
   "metadata": {},
   "outputs": [],
   "source": [
    "# Save model as json\n",
    "save_model(model = grid_search,\n",
    "           directory = configs.models_directory,\n",
    "           name = configs.model_name,\n",
    "           time_format = configs.time_format,\n",
    "           file_type = configs.model_file_type)\n"
   ]
  },
  {
   "cell_type": "code",
   "execution_count": 19,
   "id": "2022839b",
   "metadata": {},
   "outputs": [],
   "source": [
    "# Load model\n",
    "xgb_regressor = load_model(model_path = configs.model_path)"
   ]
  },
  {
   "cell_type": "markdown",
   "id": "1d2d3573",
   "metadata": {},
   "source": [
    "# Assign values "
   ]
  },
  {
   "cell_type": "code",
   "execution_count": 33,
   "id": "12e644f3",
   "metadata": {},
   "outputs": [],
   "source": [
    "# Assigning values with maximize the target variable\n",
    "X_test_new = assign_treatment(df = X_test,\n",
    "                               model = xgb_regressor,\n",
    "                               treatment_values = configs.treatment_values, \n",
    "                               past_col_name = configs.treatment_col_name, \n",
    "                               new_col_name = configs.new_treatment_col_name)\n"
   ]
  },
  {
   "cell_type": "markdown",
   "id": "e735545e",
   "metadata": {},
   "source": [
    "<p align=\"center\">\n",
    "    <img src=\"https://media.tenor.com/4ZgDQzw4lg4AAAAM/value-added-check.gif\"  width=\"200\" height=\"60\">\n",
    "</p>\n"
   ]
  },
  {
   "cell_type": "markdown",
   "id": "31468db8",
   "metadata": {},
   "source": [
    "### Save optimal treatment "
   ]
  },
  {
   "cell_type": "code",
   "execution_count": 45,
   "id": "c70c8fa8",
   "metadata": {},
   "outputs": [],
   "source": [
    "# Save optimal treatment for future analysis\n",
    "save_optimal_treatment_as_json(data = X_test_new,\n",
    "                               col = configs.new_treatment_col_name,\n",
    "                               directory = configs.data_directory,\n",
    "                               file_name = configs.new_treatment_col_name)"
   ]
  },
  {
   "cell_type": "markdown",
   "id": "82d28db7",
   "metadata": {},
   "source": [
    "# Summary"
   ]
  },
  {
   "cell_type": "markdown",
   "id": "8d39e0b7",
   "metadata": {},
   "source": [
    "The `README.md` file will provide a discussion of the following results:"
   ]
  },
  {
   "cell_type": "code",
   "execution_count": 46,
   "id": "1b3f58db",
   "metadata": {},
   "outputs": [
    {
     "data": {
      "text/plain": [
       "144983"
      ]
     },
     "execution_count": 46,
     "metadata": {},
     "output_type": "execute_result"
    }
   ],
   "source": [
    "(X_test_new.treatment_10_predition  ==  X_test_new.treatment_2_predition).sum()"
   ]
  },
  {
   "cell_type": "code",
   "execution_count": 47,
   "id": "a606f6c9",
   "metadata": {},
   "outputs": [
    {
     "data": {
      "text/plain": [
       "10    145051\n",
       "2      54949\n",
       "Name: optimal_treatment, dtype: int64"
      ]
     },
     "execution_count": 47,
     "metadata": {},
     "output_type": "execute_result"
    }
   ],
   "source": [
    "X_test_new[\"optimal_treatment\"].value_counts()"
   ]
  },
  {
   "cell_type": "code",
   "execution_count": 142,
   "id": "7a321cf5",
   "metadata": {},
   "outputs": [
    {
     "data": {
      "image/png": "[encoded data removed]",
      "text/plain": [
       "<Figure size 640x480 with 1 Axes>"
      ]
     },
     "metadata": {},
     "output_type": "display_data"
    }
   ],
   "source": [
    "plot_highest_features_diffs(X_test)"
   ]
  }
 ],
 "metadata": {
  "kernelspec": {
   "display_name": "moonactive_venv",
   "language": "python",
   "name": "moonactive_venv"
  },
  "language_info": {
   "codemirror_mode": {
    "name": "ipython",
    "version": 3
   },
   "file_extension": ".py",
   "mimetype": "text/x-python",
   "name": "python",
   "nbconvert_exporter": "python",
   "pygments_lexer": "ipython3",
   "version": "3.9.13"
  }
 },
 "nbformat": 4,
 "nbformat_minor": 5
}
